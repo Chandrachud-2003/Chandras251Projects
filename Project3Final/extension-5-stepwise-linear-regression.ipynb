{
 "cells": [
  {
   "attachments": {},
   "cell_type": "markdown",
   "metadata": {},
   "source": [
    "# Extension 5 - Stepwise linear regression"
   ]
  },
  {
   "attachments": {},
   "cell_type": "markdown",
   "metadata": {},
   "source": [
    "Implement the stepwise linear regression discussed in class where you add variables to the regression model one-by-one in a greedy fashion: each variable added out of the available ones not already entered in the regression should result in the largest increase in the adjusted $R^2$ value on the validation data."
   ]
  },
  {
   "cell_type": "code",
   "execution_count": 4,
   "metadata": {},
   "outputs": [
    {
     "name": "stdout",
     "output_type": "stream",
     "text": [
      "The autoreload extension is already loaded. To reload it, use:\n",
      "  %reload_ext autoreload\n"
     ]
    }
   ],
   "source": [
    "# Importing the required stuff\n",
    "\n",
    "import os\n",
    "import random\n",
    "import numpy as np\n",
    "import matplotlib.pyplot as plt\n",
    "\n",
    "from data import Data\n",
    "from linear_regression import LinearRegression\n",
    "\n",
    "plt.style.use(['seaborn-v0_8-colorblind', 'seaborn-v0_8-darkgrid'])\n",
    "plt.rcParams.update({'font.size': 20})\n",
    "\n",
    "np.set_printoptions(suppress=True, precision=5)\n",
    "\n",
    "# Automatically reload external modules\n",
    "%load_ext autoreload\n",
    "%autoreload 2"
   ]
  },
  {
   "cell_type": "code",
   "execution_count": 5,
   "metadata": {},
   "outputs": [
    {
     "name": "stdout",
     "output_type": "stream",
     "text": [
      "data/testdata52.csv (20x5)\n",
      "Headers:\n",
      "  D0\t  D1\t  D2\t  D3\t  D4\t\n",
      "-----------------------\n",
      "Showing first 5/20 rows.\n",
      "-0.3\t-0.49\t1.35\t-1.21\t0.46\t\n",
      "0.73\t0.28\t1.15\t-0.2\t-0.22\t\n",
      "0.48\t-0.25\t-0.83\t0.46\t0.35\t\n",
      "0.33\t-0.26\t1.53\t0.24\t-1.01\t\n",
      "-0.99\t-1.24\t0.74\t-1.57\t1.22\t\n",
      "\n"
     ]
    }
   ],
   "source": [
    "# Storing the filenames of testdata52.csv\n",
    "test52_file_name = os.path.join('data', 'testdata52.csv')\n",
    "\n",
    "# Loading the data\n",
    "test52_data = Data(test52_file_name)\n",
    "\n",
    "# Creating a LinearRegression object\n",
    "test52_lr = LinearRegression(test52_data)\n",
    "\n",
    "# Printing the data\n",
    "print(test52_data)"
   ]
  },
  {
   "cell_type": "code",
   "execution_count": 6,
   "metadata": {},
   "outputs": [
    {
     "name": "stdout",
     "output_type": "stream",
     "text": [
      "Added variable: D0. Adjusted R^2 increased by 0.054.\n",
      "Added variable: D3. Adjusted R^2 increased by 0.105.\n"
     ]
    }
   ],
   "source": [
    "# Performing stepwise linear regression with D0, D1, D2, and D3 as independent variables and D4 as the dependent variable\n",
    "test52_lr.stepwise_linear_regression(['D0', 'D1', 'D2', 'D3'], 'D4')"
   ]
  },
  {
   "attachments": {},
   "cell_type": "markdown",
   "metadata": {},
   "source": [
    "# Discussion"
   ]
  },
  {
   "attachments": {},
   "cell_type": "markdown",
   "metadata": {},
   "source": [
    "In this extension, we implemented a stepwise linear regression algorithm, where variables are added to the regression model one-by-one in a greedy fashion based on the increase in adjusted $R^2$ on the validation data. We used the LinearRegression class implemented in the main notebook to perform linear regression and calculate $R^2$ and adjusted $R^2$ values.\n",
    "\n",
    "We tested the algorithm using the test data set 'testdata52.csv' with D0, D1, D2, and D3 as independent variables and D4 as the dependent variable. The algorithm started with the first variable D0, and then added D3, resulting in an increase in adjusted $R^2$ of 0.105. The final model included D0 and D3 as independent variables.\n",
    "\n",
    "The stepwise linear regression algorithm can be useful for selecting the most important variables in a regression model, especially when dealing with a large number of potential predictors. By adding variables one at a time and selecting the variable that results in the largest increase in adjusted $R^2$, we can gradually build a more accurate model and avoid overfitting.\n",
    "\n",
    "To use this algorithm, one would need to specify the independent and dependent variables and call the stepwise_linear_regression method of the LinearRegression class with these variables as arguments. The method will print information about the added variables and the increase in adjusted $R^2`, and set the attributes of the LinearRegression object to match the final model.\n",
    "\n",
    "Overall, the implementation of the stepwise linear regression algorithm was successful, and it can be a useful addition to the LinearRegression class for selecting the most important variables in a regression model."
   ]
  }
 ],
 "metadata": {
  "kernelspec": {
   "display_name": "Python 3",
   "language": "python",
   "name": "python3"
  },
  "language_info": {
   "codemirror_mode": {
    "name": "ipython",
    "version": 3
   },
   "file_extension": ".py",
   "mimetype": "text/x-python",
   "name": "python",
   "nbconvert_exporter": "python",
   "pygments_lexer": "ipython3",
   "version": "3.10.4"
  },
  "orig_nbformat": 4
 },
 "nbformat": 4,
 "nbformat_minor": 2
}
