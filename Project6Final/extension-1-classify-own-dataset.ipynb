{
 "cells": [
  {
   "attachments": {},
   "cell_type": "markdown",
   "metadata": {},
   "source": [
    "# Extension 1 - Classify your own datasets\n",
    "\n",
    "- Find datasets that you find interesting and run classification on them using your KNN algorithm (and if applicable, Naive Bayes). Analysis the performance of your classifer."
   ]
  },
  {
   "cell_type": "code",
   "execution_count": 37,
   "metadata": {},
   "outputs": [
    {
     "name": "stdout",
     "output_type": "stream",
     "text": [
      "The autoreload extension is already loaded. To reload it, use:\n",
      "  %reload_ext autoreload\n"
     ]
    }
   ],
   "source": [
    "# Importing all the required stuff\n",
    "\n",
    "import os\n",
    "import random\n",
    "import numpy as np\n",
    "import matplotlib.pyplot as plt\n",
    "import pandas as pd\n",
    "from sklearn.datasets import load_iris\n",
    "from sklearn.model_selection import train_test_split\n",
    "from sklearn.metrics import accuracy_score\n",
    "from knn import KNN\n",
    "from naive_bayes import NaiveBayes\n",
    "\n",
    "plt.style.use(['seaborn-v0_8-colorblind', 'seaborn-v0_8-darkgrid'])\n",
    "plt.rcParams.update({'font.size': 20})\n",
    "\n",
    "np.set_printoptions(suppress=True, precision=5)\n",
    "\n",
    "# Automatically reload external modules\n",
    "%load_ext autoreload\n",
    "%autoreload 2"
   ]
  },
  {
   "cell_type": "code",
   "execution_count": 38,
   "metadata": {},
   "outputs": [],
   "source": [
    "# Load the Iris dataset\n",
    "iris = load_iris()\n",
    "X = iris.data\n",
    "y = iris.target"
   ]
  },
  {
   "cell_type": "code",
   "execution_count": 39,
   "metadata": {},
   "outputs": [],
   "source": [
    "# Split the data into training and testing sets\n",
    "X_train, X_test, y_train, y_test = train_test_split(X, y, test_size=0.2, random_state=42)"
   ]
  },
  {
   "cell_type": "code",
   "execution_count": 40,
   "metadata": {},
   "outputs": [
    {
     "name": "stdout",
     "output_type": "stream",
     "text": [
      "KNN accuracy: 1.00\n"
     ]
    }
   ],
   "source": [
    "# Train and evaluate a KNN classifier\n",
    "knn = KNN(num_classes=3)\n",
    "knn.train(X_train, y_train)\n",
    "y_pred = knn.predict(X_test, k=3)\n",
    "knn_accuracy = accuracy_score(y_test, y_pred)\n",
    "print(f\"KNN accuracy: {knn_accuracy:.2f}\")\n"
   ]
  },
  {
   "cell_type": "code",
   "execution_count": 41,
   "metadata": {},
   "outputs": [
    {
     "name": "stdout",
     "output_type": "stream",
     "text": [
      "Naive Bayes accuracy: 0.90\n"
     ]
    }
   ],
   "source": [
    "# Train and evaluate a Naive Bayes classifier\n",
    "nb = NaiveBayes(num_classes=3) \n",
    "nb.train(X_train, y_train)\n",
    "y_pred = nb.predict(X_test)\n",
    "nb_accuracy = accuracy_score(y_test, y_pred)\n",
    "print(f\"Naive Bayes accuracy: {nb_accuracy:.2f}\")\n"
   ]
  },
  {
   "attachments": {},
   "cell_type": "markdown",
   "metadata": {},
   "source": [
    "# Report + Results\n",
    "\n",
    "For my first extension, I decided to classify my own datasets using KNN algorithm and Naive Bayes (if applicable) to analyze the performance of my classifier. I imported all the required stuff, including the Iris dataset from scikit-learn, which was used in the previous implementation.\n",
    "\n",
    "Next, I split the data into training and testing sets using the train_test_split() method with a test size of 0.2 and a random state of 42. Then, I trained and evaluated the KNN classifier with k=3 and got an accuracy score of 1.00, which is perfect.\n",
    "\n",
    "Moving on to Naive Bayes classifier, I trained and evaluated it as well, but this time, I got an accuracy score of 0.90. It's lower than the KNN classifier, but it's still a good result.\n",
    "\n",
    "Overall, I found that both classifiers worked well on the Iris dataset, but Naive Bayes was outperformed by KNN on the dataset. I believe this could be due to the nature of the dataset and how the features are related. Nonetheless, it was interesting to see how the classifiers performed on a real dataset."
   ]
  }
 ],
 "metadata": {
  "kernelspec": {
   "display_name": "Python 3",
   "language": "python",
   "name": "python3"
  },
  "language_info": {
   "codemirror_mode": {
    "name": "ipython",
    "version": 3
   },
   "file_extension": ".py",
   "mimetype": "text/x-python",
   "name": "python",
   "nbconvert_exporter": "python",
   "pygments_lexer": "ipython3",
   "version": "3.10.4"
  },
  "orig_nbformat": 4
 },
 "nbformat": 4,
 "nbformat_minor": 2
}
