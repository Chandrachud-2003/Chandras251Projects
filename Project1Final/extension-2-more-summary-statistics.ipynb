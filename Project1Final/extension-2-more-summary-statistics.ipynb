{
 "cells": [
  {
   "attachments": {},
   "cell_type": "markdown",
   "metadata": {},
   "source": [
    "# Extension 2 - Summary Statistics\n",
    "\n",
    "For this extension for the diamond dataset project, I explored and applied additional summary statistics beyond the ones already calculated in the project, including:\n",
    "\n",
    "1. Percentiles: Calculate the 25th, 50th (median), and 75th percentiles for each numeric variable in the dataset. This gives one a better understanding of the distribution of the data and how it is spread across different ranges.\n",
    "\n",
    "2. Skewness and Kurtosis: Calculate the skewness and kurtosis of each numeric variable. Skewness measures the degree of asymmetry in the distribution, while kurtosis measures the degree of peakedness in the distribution. This will help you understand whether the data is symmetric or skewed and how much variability there is in the distribution.\n",
    "\n",
    "3. Correlation matrix: Calculate the correlation coefficients between each pair of numeric variables in the dataset. This will help you understand how the variables are related to each other and whether there are any strong or weak correlations.\n",
    "\n",
    "4. Outlier detection: Use box plots or other methods to detect and visualize outliers in the dataset. This will help you identify any extreme values that may be affecting the summary statistics and make decisions about how to handle them.\n"
   ]
  },
  {
   "cell_type": "code",
   "execution_count": 1,
   "metadata": {},
   "outputs": [],
   "source": [
    "# Importing the diamonds.csv dataset\n",
    "\n",
    "# Importing libraries\n",
    "from data import Data\n",
    "import numpy as np\n",
    "import pandas as pd\n",
    "from analysis_extension_2 import Analysis\n",
    "import matplotlib.pyplot as plt\n",
    "\n",
    "# Fixing the diamonds csv file\n",
    "diamonds_filename = 'data/diamonds.csv'\n",
    "\n",
    "# Creating a data object\n",
    "diamonds_data = Data(diamonds_filename)\n",
    "\n",
    "# Exploring the data\n",
    "\n",
    "# Creating an analysis object\n",
    "diamonds_an = Analysis(diamonds_data)\n"
   ]
  },
  {
   "cell_type": "code",
   "execution_count": 2,
   "metadata": {},
   "outputs": [
    {
     "name": "stdout",
     "output_type": "stream",
     "text": [
      "Percentiles for carat:\n",
      "[0.4  0.7  1.04]\n",
      "\n",
      "Percentiles for price:\n",
      "[ 950.   2401.   5324.25]\n",
      "\n",
      "Percentiles for depth:\n",
      "[61.  61.8 62.5]\n",
      "\n",
      "Percentiles for table:\n",
      "[56. 57. 59.]\n",
      "\n",
      "Percentiles for x:\n",
      "[4.71 5.7  6.54]\n",
      "\n",
      "Percentiles for y:\n",
      "[4.72 5.71 6.54]\n",
      "\n",
      "Percentiles for z:\n",
      "[2.91 3.53 4.04]\n",
      "\n"
     ]
    }
   ],
   "source": [
    "# Computing the percentiles for the diamonds dataset\n",
    "headers = ['carat', 'price', 'depth', 'table', 'x', 'y', 'z']\n",
    "percentiles = diamonds_an.percentiles(headers)\n",
    "\n",
    "# Printing the percentiles\n",
    "for i, header in enumerate(headers):\n",
    "    print('Percentiles for ' + header + ':')\n",
    "    print(percentiles[i])\n",
    "    print()\n"
   ]
  },
  {
   "cell_type": "code",
   "execution_count": 3,
   "metadata": {},
   "outputs": [
    {
     "name": "stdout",
     "output_type": "stream",
     "text": [
      "Skewness for carat:\n",
      "1.1166148681277799\n",
      "\n",
      "Skewness for price:\n",
      "1.6183502776053014\n",
      "\n",
      "Skewness for depth:\n",
      "-0.08229173779627724\n",
      "\n",
      "Skewness for table:\n",
      "0.7968736878796522\n",
      "\n",
      "Skewness for x:\n",
      "0.37866581207720984\n",
      "\n",
      "Skewness for y:\n",
      "2.4340990250113643\n",
      "\n",
      "Skewness for z:\n",
      "1.5223802221853722\n",
      "\n",
      "Kurtosis for carat:\n",
      "4.2564076184374775\n",
      "\n",
      "Kurtosis for price:\n",
      "5.177382669056634\n",
      "\n",
      "Kurtosis for depth:\n",
      "8.738771345086848\n",
      "\n",
      "Kurtosis for table:\n",
      "5.801485914361581\n",
      "\n",
      "Kurtosis for x:\n",
      "2.3817853957226722\n",
      "\n",
      "Kurtosis for y:\n",
      "94.20599095863466\n",
      "\n",
      "Kurtosis for z:\n",
      "50.08214348390816\n",
      "\n"
     ]
    }
   ],
   "source": [
    "# Computing the skewness and kurtosis for the diamonds dataset\n",
    "\n",
    "# Computing the skewness\n",
    "skewness = diamonds_an.skewness(headers)\n",
    "\n",
    "# Printing the skewness\n",
    "for i, header in enumerate(headers):\n",
    "    print('Skewness for ' + header + ':')\n",
    "    print(skewness[i])\n",
    "    print()\n",
    "\n",
    "# Computing the kurtosis\n",
    "kurtosis = diamonds_an.kurtosis(headers)\n",
    "\n",
    "# Printing the kurtosis\n",
    "for i, header in enumerate(headers):\n",
    "    print('Kurtosis for ' + header + ':')\n",
    "    print(kurtosis[i])\n",
    "    print()"
   ]
  },
  {
   "cell_type": "code",
   "execution_count": 4,
   "metadata": {},
   "outputs": [
    {
     "name": "stdout",
     "output_type": "stream",
     "text": [
      "Correlation matrix:\n",
      "[[ 1.          0.9215913   0.02822431  0.18161755  0.97509423  0.9517222\n",
      "   0.95338738]\n",
      " [ 0.9215913   1.         -0.0106474   0.1271339   0.88443516  0.8654209\n",
      "   0.86124944]\n",
      " [ 0.02822431 -0.0106474   1.         -0.29577852 -0.02528925 -0.02934067\n",
      "   0.09492388]\n",
      " [ 0.18161755  0.1271339  -0.29577852  1.          0.19534428  0.18376015\n",
      "   0.15092869]\n",
      " [ 0.97509423  0.88443516 -0.02528925  0.19534428  1.          0.97470148\n",
      "   0.9707718 ]\n",
      " [ 0.9517222   0.8654209  -0.02934067  0.18376015  0.97470148  1.\n",
      "   0.95200572]\n",
      " [ 0.95338738  0.86124944  0.09492388  0.15092869  0.9707718   0.95200572\n",
      "   1.        ]]\n"
     ]
    }
   ],
   "source": [
    "# Computing the correlation matrix for the diamonds dataset\n",
    "correlation_matrix = diamonds_an.correlation_matrix(headers)\n",
    "\n",
    "# Printing the correlation matrix\n",
    "print('Correlation matrix:')\n",
    "print(correlation_matrix)"
   ]
  },
  {
   "cell_type": "code",
   "execution_count": 6,
   "metadata": {},
   "outputs": [
    {
     "name": "stdout",
     "output_type": "stream",
     "text": [
      "Outliers for carat:\n",
      "[0.4  0.7  1.04]\n",
      "\n",
      "Outliers for price:\n",
      "[ 950.   2401.   5324.25]\n",
      "\n",
      "Outliers for depth:\n",
      "[61.  61.8 62.5]\n",
      "\n",
      "Outliers for table:\n",
      "[56. 57. 59.]\n",
      "\n",
      "Outliers for x:\n",
      "[4.71 5.7  6.54]\n",
      "\n",
      "Outliers for y:\n",
      "[4.72 5.71 6.54]\n",
      "\n",
      "Outliers for z:\n",
      "[2.91 3.53 4.04]\n",
      "\n"
     ]
    }
   ],
   "source": [
    "# Computing the outliers for the diamonds dataset\n",
    "outliers = diamonds_an.outlier_detection(headers)\n",
    "\n",
    "# Printing the outliers\n",
    "for i, header in enumerate(headers):\n",
    "    print('Outliers for ' + header + ':')\n",
    "    print(outliers[i])\n",
    "    print()"
   ]
  }
 ],
 "metadata": {
  "kernelspec": {
   "display_name": "Python 3",
   "language": "python",
   "name": "python3"
  },
  "language_info": {
   "codemirror_mode": {
    "name": "ipython",
    "version": 3
   },
   "file_extension": ".py",
   "mimetype": "text/x-python",
   "name": "python",
   "nbconvert_exporter": "python",
   "pygments_lexer": "ipython3",
   "version": "3.10.4"
  },
  "orig_nbformat": 4,
  "vscode": {
   "interpreter": {
    "hash": "f1439614bbab0b39d70f859a50b1db7ba0fe845a40ec39d50f3ebffda1a60010"
   }
  }
 },
 "nbformat": 4,
 "nbformat_minor": 2
}
