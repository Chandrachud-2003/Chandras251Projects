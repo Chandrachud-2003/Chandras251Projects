{
 "cells": [
  {
   "attachments": {},
   "cell_type": "markdown",
   "metadata": {},
   "source": [
    "Homework Week 5"
   ]
  },
  {
   "cell_type": "code",
   "execution_count": 145,
   "metadata": {},
   "outputs": [],
   "source": [
    "import numpy as np\n",
    "import pandas as pd\n",
    "import seaborn as sns\n",
    "import matplotlib.pyplot as plt\n",
    "import scipy.linalg as sp_la\n",
    "import scipy as sp"
   ]
  },
  {
   "cell_type": "code",
   "execution_count": 146,
   "metadata": {},
   "outputs": [],
   "source": [
    "data = np.array(np.genfromtxt('data/SeoulBikeData.csv', delimiter=',', skip_header=1, dtype=float, encoding=\"utf-8\", usecols=[1,2,3,4,5,6,7,8,9,10]))  \n",
    "columns = [\"Rented Bike Count\",\"Hour\",\"Temperature(C)\",\"Humidity(%)\",\"Wind speed (m/s)\",\"Visibility (10m)\",\"Dew point temperature(C)\",\"Solar Radiation (MJ/m2)\",\"Rainfall(mm)\",\"Snowfall (cm)\"]"
   ]
  },
  {
   "cell_type": "code",
   "execution_count": 147,
   "metadata": {},
   "outputs": [
    {
     "name": "stdout",
     "output_type": "stream",
     "text": [
      "(7008, 10) (700800, 10)\n"
     ]
    }
   ],
   "source": [
    "# The first step is to make that dataset big. So make sure each data point is copied 100 times. This should not change the *output* of the regressions (the models that are fit). \n",
    "# This week you will work with the same dataset as last week. The first step is to make that dataset big. So make sure each data point is copied 100 times. This should not change the *output* of the regressions (the models that are fit). To do this: once you have loaded the data (which is already ordered by time), split it into 80% train and 20% test, then get the big copy of train like this:\n",
    "# np.vstack([train]*100)\n",
    "\n",
    "# Split data into train and test sets\n",
    "train_size = int(0.8 * len(data))\n",
    "train = data[:train_size]\n",
    "test = data[train_size:]\n",
    "\n",
    "# Get big copy of train\n",
    "train_big = np.vstack([train] * 100)\n",
    "# Printing the shape of train and train_big\n",
    "print(train.shape, train_big.shape)"
   ]
  },
  {
   "cell_type": "code",
   "execution_count": 148,
   "metadata": {},
   "outputs": [],
   "source": [
    "def makePoly(X, poly):\n",
    "    n_samples, n_features = X.shape\n",
    "    A = np.zeros([n_samples, n_features * poly + 1])\n",
    "    A[:, 0] = 1\n",
    "    for i in range(n_features):\n",
    "        for j in range(1, poly+1):\n",
    "            A[:, i*poly + j] = np.squeeze(X[:, i]**j)\n",
    "    print(getSummaryStatistics(A))\n",
    "    print(getShapeType(A))\n",
    "    return A\n",
    "    \n",
    "def fit_poly(data, independent, dependent, poly):\n",
    "    # These are our independent variables\n",
    "    X = data[:, independent]\n",
    "\n",
    "    # We add a column of 1s for the intercept\n",
    "    A = makePoly(X, poly)\n",
    "\n",
    "    # This is the dependent variable \n",
    "    y = data[:, dependent]\n",
    "\n",
    "    # This is the regression coefficients that were fit, plus some other results\n",
    "    c, res, _, _ = sp.linalg.lstsq(A, y)\n",
    "    return c\n",
    "\n",
    "def predict_poly(data, independent, poly, c):\n",
    "    # These are our independent variables\n",
    "    X = data[:, independent]\n",
    "\n",
    "    # We add a column of 1s for the intercept\n",
    "    A = makePoly(X, poly)\n",
    "\n",
    "    return np.dot(A, c)\n",
    "\n",
    "\n",
    "def fit(data, independent, dependent):\n",
    "    # These are our independent variable(s)\n",
    "    x = data[np.ix_(np.arange(data.shape[0]), independent)]\n",
    "    print(getSummaryStatistics(x))\n",
    "    print(getShapeType(x))\n",
    "\n",
    "    # We add a column of 1s for the intercept\n",
    "    A = np.hstack((np.array([np.ones(x.shape[0])]).T, x))\n",
    "    print(getSummaryStatistics(A))\n",
    "    print(getShapeType(A))\n",
    "\n",
    "    # This is the dependent variable \n",
    "    y = data[:, dependent]\n",
    "    print(getSummaryStatistics(y))\n",
    "    print(getShapeType(y))\n",
    "\n",
    "    # This is the regression coefficients that were fit, plus some other results\n",
    "    c, res, _, _ = sp_la.lstsq(A, y)\n",
    "    return c\n",
    "\n",
    "def predict(data, independent, c):\n",
    "    # These are our independent variable(s)\n",
    "    x = data[np.ix_(np.arange(data.shape[0]), independent)]\n",
    "    print(getSummaryStatistics(x))\n",
    "    print(getShapeType(x))\n",
    "\n",
    "    # We add a column of 1s for the intercept\n",
    "    A = np.hstack((np.array([np.ones(x.shape[0])]).T, x))\n",
    "    print(getSummaryStatistics(A))\n",
    "    print(getShapeType(A))\n",
    "\n",
    "    return np.dot(A, c)\n",
    "\n",
    "def getSummaryStatistics(data):\n",
    "    return np.array([data.max(axis=0), data.min(axis=0), data.mean(axis=0, dtype=int)])\n",
    "\n",
    "def getShapeType(data):\n",
    "    return (data.shape, data.dtype)"
   ]
  },
  {
   "cell_type": "code",
   "execution_count": 149,
   "metadata": {},
   "outputs": [
    {
     "name": "stdout",
     "output_type": "stream",
     "text": [
      "[[ 39.4]\n",
      " [-17.8]\n",
      " [ 12. ]]\n",
      "((700800, 1), dtype('float64'))\n",
      "[[  1.   39.4]\n",
      " [  1.  -17.8]\n",
      " [  1.   12. ]]\n",
      "((700800, 2), dtype('float64'))\n",
      "[5.1 0.  0. ]\n",
      "((700800,), dtype('float64'))\n",
      "CPU times: user 184 ms, sys: 32.9 ms, total: 217 ms\n",
      "Wall time: 224 ms\n"
     ]
    }
   ],
   "source": [
    "%%time\n",
    "# How long does it take to fit a linear regression model on the bike sharing*100 data, with dependent variable the last column and independent variable the hour of the day, using least squares?\n",
    "c = fit(train_big, [2], 9)\n"
   ]
  },
  {
   "cell_type": "code",
   "execution_count": 150,
   "metadata": {},
   "outputs": [
    {
     "name": "stdout",
     "output_type": "stream",
     "text": [
      "[[ 3.556e+03  2.300e+01  3.940e+01  9.800e+01  7.400e+00  2.000e+03\n",
      "   2.720e+01  3.520e+00  3.500e+01]\n",
      " [ 0.000e+00  0.000e+00 -1.780e+01  0.000e+00  0.000e+00  2.700e+01\n",
      "  -3.060e+01  0.000e+00  0.000e+00]\n",
      " [ 6.910e+02  1.100e+01  1.200e+01  5.800e+01  1.000e+00  1.420e+03\n",
      "   4.000e+00  0.000e+00  0.000e+00]]\n",
      "((700800, 9), dtype('float64'))\n",
      "[[ 1.000e+00  3.556e+03  2.300e+01  3.940e+01  9.800e+01  7.400e+00\n",
      "   2.000e+03  2.720e+01  3.520e+00  3.500e+01]\n",
      " [ 1.000e+00  0.000e+00  0.000e+00 -1.780e+01  0.000e+00  0.000e+00\n",
      "   2.700e+01 -3.060e+01  0.000e+00  0.000e+00]\n",
      " [ 1.000e+00  6.910e+02  1.100e+01  1.200e+01  5.800e+01  1.000e+00\n",
      "   1.420e+03  4.000e+00  0.000e+00  0.000e+00]]\n",
      "((700800, 10), dtype('float64'))\n",
      "[5.1 0.  0. ]\n",
      "((700800,), dtype('float64'))\n",
      "CPU times: user 925 ms, sys: 121 ms, total: 1.05 s\n",
      "Wall time: 938 ms\n"
     ]
    }
   ],
   "source": [
    "%%time\n",
    "# How long does it take to fit a multiple linear regression model on the bike sharing*100 data, with dependent variable the last column and independent variables all the others, using least squares?\n",
    "\n",
    "# Exclude the column with the dependent variable\n",
    "independent = list(range(len(columns) - 1))\n",
    "\n",
    "# Fit the multiple linear regression model\n",
    "c = fit(train_big, independent, 9)\n"
   ]
  },
  {
   "cell_type": "code",
   "execution_count": 151,
   "metadata": {},
   "outputs": [],
   "source": [
    "def plotxyyhat(x, y, m, b):\n",
    "    plt.plot(x, y, 'o', label='data')\n",
    "    yhat = m*x + b\n",
    "    plt.plot(x, yhat, label='least squares fit, $y = mx + b$')\n",
    "    plt.xlabel('x')\n",
    "    plt.ylabel('y')\n",
    "    plt.legend(framealpha=1, shadow=True)\n",
    "    plt.grid(alpha=0.25)\n",
    "    plt.show()"
   ]
  },
  {
   "cell_type": "code",
   "execution_count": 152,
   "metadata": {},
   "outputs": [
    {
     "name": "stdout",
     "output_type": "stream",
     "text": [
      "[[ 3.154e+03  2.300e+01  2.660e+01  9.700e+01  5.700e+00  2.000e+03\n",
      "   1.810e+01  2.930e+00  1.800e+01]\n",
      " [ 0.000e+00  0.000e+00 -3.000e+00  1.300e+01  0.000e+00  3.300e+01\n",
      "  -1.900e+01  0.000e+00  0.000e+00]\n",
      " [ 7.560e+02  1.100e+01  1.100e+01  5.800e+01  1.000e+00  1.504e+03\n",
      "   2.000e+00  0.000e+00  0.000e+00]]\n",
      "((1752, 9), dtype('float64'))\n",
      "[[ 1.000e+00  3.154e+03  2.300e+01  2.660e+01  9.700e+01  5.700e+00\n",
      "   2.000e+03  1.810e+01  2.930e+00  1.800e+01]\n",
      " [ 1.000e+00  0.000e+00  0.000e+00 -3.000e+00  1.300e+01  0.000e+00\n",
      "   3.300e+01 -1.900e+01  0.000e+00  0.000e+00]\n",
      " [ 1.000e+00  7.560e+02  1.100e+01  1.100e+01  5.800e+01  1.000e+00\n",
      "   1.504e+03  2.000e+00  0.000e+00  0.000e+00]]\n",
      "((1752, 10), dtype('float64'))\n"
     ]
    },
    {
     "data": {
      "image/png": "[encoded data removed]",
      "text/plain": [
       "<Figure size 640x480 with 1 Axes>"
      ]
     },
     "metadata": {},
     "output_type": "display_data"
    },
    {
     "data": {
      "image/png": "[encoded data removed]",
      "text/plain": [
       "<Figure size 640x480 with 1 Axes>"
      ]
     },
     "metadata": {},
     "output_type": "display_data"
    }
   ],
   "source": [
    "yhat = predict(test, independent, c)\n",
    "plotxyyhat(train[:, len(independent)], train[:, 9], c[1], c[0])\n",
    "plotxyyhat(test[:, len(independent)], test[:, 9], c[1], c[0])"
   ]
  },
  {
   "cell_type": "code",
   "execution_count": 153,
   "metadata": {},
   "outputs": [
    {
     "name": "stdout",
     "output_type": "stream",
     "text": [
      "[[ 1.00000000e+00  3.55600000e+03  1.26451360e+07  4.49661036e+10\n",
      "   2.30000000e+01  5.29000000e+02  1.21670000e+04  3.94000000e+01\n",
      "   1.55236000e+03  6.11629840e+04  9.80000000e+01  9.60400000e+03\n",
      "   9.41192000e+05  7.40000000e+00  5.47600000e+01  4.05224000e+02\n",
      "   2.00000000e+03  4.00000000e+06  8.00000000e+09  2.72000000e+01\n",
      "   9.36360000e+02  2.01236480e+04  3.52000000e+00  1.23904000e+01\n",
      "   4.36142080e+01  3.50000000e+01  1.22500000e+03  4.28750000e+04]\n",
      " [ 1.00000000e+00  0.00000000e+00  0.00000000e+00  0.00000000e+00\n",
      "   0.00000000e+00  0.00000000e+00  0.00000000e+00 -1.78000000e+01\n",
      "   0.00000000e+00 -5.63975200e+03  0.00000000e+00  0.00000000e+00\n",
      "   0.00000000e+00  0.00000000e+00  0.00000000e+00  0.00000000e+00\n",
      "   2.70000000e+01  7.29000000e+02  1.96830000e+04 -3.06000000e+01\n",
      "   0.00000000e+00 -2.86526160e+04  0.00000000e+00  0.00000000e+00\n",
      "   0.00000000e+00  0.00000000e+00  0.00000000e+00  0.00000000e+00]\n",
      " [ 1.00000000e+00  6.91000000e+02  9.03242000e+05  1.56273715e+09\n",
      "   1.10000000e+01  1.80000000e+02  3.17400000e+03  1.20000000e+01\n",
      "   3.41000000e+02  8.40000000e+03  5.80000000e+01  3.80900000e+03\n",
      "   2.71819000e+05  1.00000000e+00  3.00000000e+00  1.20000000e+01\n",
      "   1.42000000e+03  2.39314000e+06  4.31344405e+09  4.00000000e+00\n",
      "   2.19000000e+02  1.58600000e+03  0.00000000e+00  0.00000000e+00\n",
      "   2.00000000e+00  0.00000000e+00  1.00000000e+00  2.40000000e+01]]\n",
      "((700800, 28), dtype('float64'))\n",
      "CPU times: user 4.14 s, sys: 613 ms, total: 4.75 s\n",
      "Wall time: 3.73 s\n"
     ]
    }
   ],
   "source": [
    "%%time\n",
    "c_poly = fit_poly(train_big, [0, 1, 2, 3, 4, 5, 6, 7, 8], 9, 3)\n"
   ]
  }
 ],
 "metadata": {
  "kernelspec": {
   "display_name": "Python 3",
   "language": "python",
   "name": "python3"
  },
  "language_info": {
   "codemirror_mode": {
    "name": "ipython",
    "version": 3
   },
   "file_extension": ".py",
   "mimetype": "text/x-python",
   "name": "python",
   "nbconvert_exporter": "python",
   "pygments_lexer": "ipython3",
   "version": "3.10.8"
  },
  "orig_nbformat": 4,
  "vscode": {
   "interpreter": {
    "hash": "3ad933181bd8a04b432d3370b9dc3b0662ad032c4dfaa4e4f1596c548f763858"
   }
  }
 },
 "nbformat": 4,
 "nbformat_minor": 2
}
