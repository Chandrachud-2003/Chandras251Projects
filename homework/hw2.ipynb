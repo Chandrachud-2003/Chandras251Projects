{
 "cells": [
  {
   "attachments": {},
   "cell_type": "markdown",
   "metadata": {},
   "source": [
    "Homework Week 2\n",
    "\n",
    "Let's take a look at a simple numpy array:\n",
    "data = np.array([[2.1, 3.2, 4.3, 5.4, 6.5, 7.6], [7.8, 6.7, 5.6, 4.5, 3.4, 2.3]])\n",
    "\n",
    "Give me one line of python code for each of the following:"
   ]
  },
  {
   "cell_type": "code",
   "execution_count": 1,
   "metadata": {},
   "outputs": [
    {
     "data": {
      "text/plain": [
       "array([[2.1, 3.2, 4.3, 5.4, 6.5, 7.6],\n",
       "       [7.8, 6.7, 5.6, 4.5, 3.4, 2.3]])"
      ]
     },
     "execution_count": 1,
     "metadata": {},
     "output_type": "execute_result"
    }
   ],
   "source": [
    "import numpy as np\n",
    "\n",
    "data = np.array([[2.1, 3.2, 4.3, 5.4, 6.5, 7.6], [7.8, 6.7, 5.6, 4.5, 3.4, 2.3]])\n",
    "data"
   ]
  },
  {
   "cell_type": "code",
   "execution_count": 2,
   "metadata": {},
   "outputs": [
    {
     "data": {
      "text/plain": [
       "array([[2, 3, 4, 5, 6, 7],\n",
       "       [7, 6, 5, 4, 3, 2]])"
      ]
     },
     "execution_count": 2,
     "metadata": {},
     "output_type": "execute_result"
    }
   ],
   "source": [
    "# Convert all elements of data to integers\n",
    "\n",
    "data_int = data.astype(int)\n",
    "data_int"
   ]
  },
  {
   "cell_type": "code",
   "execution_count": 4,
   "metadata": {},
   "outputs": [
    {
     "data": {
      "text/plain": [
       "array([[ 6.3,  9.6, 12.9, 16.2, 19.5, 22.8],\n",
       "       [23.4, 20.1, 16.8, 13.5, 10.2,  6.9]])"
      ]
     },
     "execution_count": 4,
     "metadata": {},
     "output_type": "execute_result"
    }
   ],
   "source": [
    "# Multiply each element of data by 3\n",
    "\n",
    "data_three = data * 3\n",
    "data_three"
   ]
  },
  {
   "cell_type": "code",
   "execution_count": 3,
   "metadata": {},
   "outputs": [
    {
     "data": {
      "text/plain": [
       "array([[2.1, 3.2, 4.3, 5.4],\n",
       "       [6.5, 7.6, 7.8, 6.7],\n",
       "       [5.6, 4.5, 3.4, 2.3]])"
      ]
     },
     "execution_count": 3,
     "metadata": {},
     "output_type": "execute_result"
    }
   ],
   "source": [
    "# Convert data into a three row array with four columns in each row\n",
    "\n",
    "data_transform = data.reshape(3, 4)\n",
    "data_transform"
   ]
  },
  {
   "cell_type": "code",
   "execution_count": 4,
   "metadata": {},
   "outputs": [
    {
     "data": {
      "text/plain": [
       "12"
      ]
     },
     "execution_count": 4,
     "metadata": {},
     "output_type": "execute_result"
    }
   ],
   "source": [
    "# Get the number of elements in data\n",
    "\n",
    "num_elements = data.size\n",
    "num_elements"
   ]
  },
  {
   "cell_type": "code",
   "execution_count": 8,
   "metadata": {},
   "outputs": [
    {
     "data": {
      "text/plain": [
       "[[2.1, 3.2, 4.3, 5.4, 6.5, 7.6], [7.8, 6.7, 5.6, 4.5, 3.4, 2.3]]"
      ]
     },
     "execution_count": 8,
     "metadata": {},
     "output_type": "execute_result"
    }
   ],
   "source": [
    "# Convert data to a python list\n",
    "\n",
    "python_list = data.tolist()\n",
    "python_list"
   ]
  },
  {
   "cell_type": "code",
   "execution_count": 5,
   "metadata": {},
   "outputs": [
    {
     "data": {
      "text/plain": [
       "5.6"
      ]
     },
     "execution_count": 5,
     "metadata": {},
     "output_type": "execute_result"
    }
   ],
   "source": [
    "# Get the third element of the second row of data\n",
    "\n",
    "element = data[1][2]\n",
    "element"
   ]
  },
  {
   "cell_type": "code",
   "execution_count": 8,
   "metadata": {},
   "outputs": [
    {
     "data": {
      "text/plain": [
       "array([4.3, 5.6])"
      ]
     },
     "execution_count": 8,
     "metadata": {},
     "output_type": "execute_result"
    }
   ],
   "source": [
    "# Get the whole third column of data\n",
    "\n",
    "third_col = data[:, 2]\n",
    "third_col"
   ]
  },
  {
   "cell_type": "code",
   "execution_count": 10,
   "metadata": {},
   "outputs": [
    {
     "data": {
      "text/plain": [
       "array([[ 2.1,  3.2,  4.3,  5.4,  6.5,  7.6],\n",
       "       [31.2, 26.8, 22.4, 18. , 13.6,  9.2]])"
      ]
     },
     "execution_count": 10,
     "metadata": {},
     "output_type": "execute_result"
    }
   ],
   "source": [
    "# Assign the second row of data to 4 times itself\n",
    "data\n",
    "data[1, :] = 4 * data[1, :]\n",
    "data"
   ]
  },
  {
   "cell_type": "code",
   "execution_count": 11,
   "metadata": {},
   "outputs": [
    {
     "data": {
      "text/plain": [
       "array([[ 0. ,  1.1,  2.2,  3.3,  4.4,  5.5],\n",
       "       [31.2, 26.8, 22.4, 18. , 13.6,  9.2]])"
      ]
     },
     "execution_count": 11,
     "metadata": {},
     "output_type": "execute_result"
    }
   ],
   "source": [
    "# Subtract the min of the first row of data from each element in the first row of data\n",
    "\n",
    "data[0, :] = data[0, :] - data[0, :].min()\n",
    "data"
   ]
  },
  {
   "cell_type": "code",
   "execution_count": 18,
   "metadata": {},
   "outputs": [
    {
     "data": {
      "text/plain": [
       "array([[ 0. ,  0. ,  2.2,  3.3,  4.4,  5.5],\n",
       "       [31.2,  0. , 22.4, 18. , 13.6,  9.2]])"
      ]
     },
     "execution_count": 18,
     "metadata": {},
     "output_type": "execute_result"
    }
   ],
   "source": [
    "# Assign the second column of data to be zeros \n",
    "\n",
    "data[:, 1] = np.zeros(data.shape[0])\n",
    "data"
   ]
  }
 ],
 "metadata": {
  "kernelspec": {
   "display_name": "Python 3",
   "language": "python",
   "name": "python3"
  },
  "language_info": {
   "codemirror_mode": {
    "name": "ipython",
    "version": 3
   },
   "file_extension": ".py",
   "mimetype": "text/x-python",
   "name": "python",
   "nbconvert_exporter": "python",
   "pygments_lexer": "ipython3",
   "version": "3.10.4"
  },
  "orig_nbformat": 4,
  "vscode": {
   "interpreter": {
    "hash": "3ad933181bd8a04b432d3370b9dc3b0662ad032c4dfaa4e4f1596c548f763858"
   }
  }
 },
 "nbformat": 4,
 "nbformat_minor": 2
}
