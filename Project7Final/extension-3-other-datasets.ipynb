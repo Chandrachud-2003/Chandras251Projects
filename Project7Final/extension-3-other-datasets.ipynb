{
 "cells": [
  {
   "attachments": {},
   "cell_type": "markdown",
   "metadata": {},
   "source": [
    "# 3) Other datasets\n",
    "\n",
    "Use your RBF network to classify other datasets."
   ]
  },
  {
   "cell_type": "code",
   "execution_count": 1,
   "metadata": {},
   "outputs": [],
   "source": [
    "# Importing all the required stuff\n",
    "import os\n",
    "import random\n",
    "import numpy as np\n",
    "import matplotlib.pyplot as plt\n",
    "import pandas as pd\n",
    "from rbf_net import RBF_Net\n",
    "\n",
    "plt.style.use(['seaborn-v0_8-colorblind', 'seaborn-v0_8-darkgrid'])\n",
    "plt.rcParams.update({'font.size': 20})\n",
    "\n",
    "np.set_printoptions(suppress=True, precision=5)\n",
    "\n",
    "# Automatically reload external modules\n",
    "%load_ext autoreload\n",
    "%autoreload 2\n",
    "\n"
   ]
  },
  {
   "cell_type": "code",
   "execution_count": 2,
   "metadata": {},
   "outputs": [],
   "source": [
    "import numpy as np\n",
    "import pandas as pd\n",
    "from sklearn.datasets import load_breast_cancer\n",
    "from sklearn.model_selection import train_test_split\n",
    "\n",
    "# Load the breast cancer dataset\n",
    "data = load_breast_cancer()\n",
    "X = data.data\n",
    "y = data.target"
   ]
  },
  {
   "cell_type": "code",
   "execution_count": 3,
   "metadata": {},
   "outputs": [],
   "source": [
    "# Split the dataset into training and test sets\n",
    "X_train, X_test, y_train, y_test = train_test_split(X, y, test_size=0.2, random_state=42)\n"
   ]
  },
  {
   "cell_type": "code",
   "execution_count": 4,
   "metadata": {},
   "outputs": [],
   "source": [
    "# Create and train the RBF network with 10 hidden units\n",
    "rbf_net = RBF_Net(num_hidden_units=10, num_classes=2)\n",
    "rbf_net.train(X_train, y_train)\n",
    "\n",
    "# Predict the classes for the training and test sets\n",
    "y_pred_train = rbf_net.predict(X_train)\n",
    "y_pred_test = rbf_net.predict(X_test)"
   ]
  },
  {
   "cell_type": "code",
   "execution_count": 5,
   "metadata": {},
   "outputs": [
    {
     "name": "stdout",
     "output_type": "stream",
     "text": [
      "Training accuracy: 0.90\n",
      "Test accuracy: 0.94\n"
     ]
    }
   ],
   "source": [
    "# Compute the accuracy for the training and test sets\n",
    "train_acc = rbf_net.accuracy(y_train, y_pred_train)\n",
    "test_acc = rbf_net.accuracy(y_test, y_pred_test)\n",
    "\n",
    "print(f'Training accuracy: {train_acc:.2f}')\n",
    "print(f'Test accuracy: {test_acc:.2f}')"
   ]
  },
  {
   "attachments": {},
   "cell_type": "markdown",
   "metadata": {},
   "source": [
    "# Report + Results\n",
    "\n",
    "I have used the RBF network to classify other datasets. Specifically, I loaded the breast cancer dataset using the load_breast_cancer function from sklearn.datasets. The dataset was split into training and test sets using the train_test_split function from sklearn.model_selection. The RBF network was created with 10 hidden units and 2 output classes, and then trained on the training set using the train method from the RBF_Net class.\n",
    "\n",
    "The predicted classes for both the training and test sets were computed using the predict method from the RBF_Net class. The accuracy of the network was then calculated using the accuracy method from the RBF_Net class. The training accuracy was found to be 0.90 and the test accuracy was 0.94.\n",
    "\n",
    "These results show that the RBF network is able to accurately classify the breast cancer dataset. It achieves a test accuracy of 0.94, which is a strong indication of its ability to generalize well to new data."
   ]
  }
 ],
 "metadata": {
  "kernelspec": {
   "display_name": "Python 3",
   "language": "python",
   "name": "python3"
  },
  "language_info": {
   "codemirror_mode": {
    "name": "ipython",
    "version": 3
   },
   "file_extension": ".py",
   "mimetype": "text/x-python",
   "name": "python",
   "nbconvert_exporter": "python",
   "pygments_lexer": "ipython3",
   "version": "3.10.4"
  },
  "orig_nbformat": 4
 },
 "nbformat": 4,
 "nbformat_minor": 2
}
