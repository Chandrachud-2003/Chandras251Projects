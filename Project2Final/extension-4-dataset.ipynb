{
 "cells": [
  {
   "attachments": {},
   "cell_type": "markdown",
   "metadata": {},
   "source": [
    "# 4. Apply matrix transformations and visualization a dataset of your choice"
   ]
  },
  {
   "cell_type": "code",
   "execution_count": null,
   "metadata": {},
   "outputs": [],
   "source": [
    "# Preliminary stuff\n",
    "\n",
    "# %pip install palettable\n",
    "# %pip install --upgrade pip \n",
    "# %pip install numpy\n",
    "# %pip install matplotlib\n",
    "# %pip install pandas\n",
    "\n",
    "import numpy as np\n",
    "import matplotlib.pyplot as plt\n",
    "import pandas as pd\n",
    "\n",
    "from data import Data\n",
    "from transformation import Transformation\n",
    "\n",
    "plt.style.use(['seaborn-colorblind', 'seaborn-darkgrid'])\n",
    "plt.rcParams.update({'font.size': 20, 'figure.figsize': (4, 4)})\n",
    "\n",
    "np.set_printoptions(suppress=True, precision=5)\n",
    "\n",
    "# Automatically reload external modules\n",
    "%load_ext autoreload\n",
    "%autoreload 2"
   ]
  },
  {
   "attachments": {},
   "cell_type": "markdown",
   "metadata": {},
   "source": [
    "For this extension, I analyzed an additional dataset - the Penguins.csv dataset from Seaborn\n"
   ]
  },
  {
   "attachments": {},
   "cell_type": "markdown",
   "metadata": {},
   "source": [
    "## What is the Seaborn Penguins Dataset?\n",
    "\n",
    "The penguins.csv dataset is a popular dataset from the Seaborn library that contains information on various physical characteristics of three penguin species, collected from the Palmer Station Long Term Ecological Research (LTER) program in Antarctica. The dataset contains the following variables:\n",
    "\n",
    "1. species: The species of the penguin (Adelie, Chinstrap, or Gentoo)\n",
    "\n",
    "2. island: The island on which the penguin was observed (Biscoe, Dream, or Torgersen)\n",
    "\n",
    "3. bill_length_mm: The length of the penguin's bill in millimeters (mm)\n",
    "\n",
    "4. bill_depth_mm: The depth of the penguin's bill in millimeters (mm)\n",
    "\n",
    "5. flipper_length_mm: The length of the penguin's flipper in millimeters (mm)\n",
    "\n",
    "6. body_mass_g: The body mass of the penguin in grams (g)\n",
    "\n",
    "7. sex: The sex of the penguin (Male or Female)\n",
    "\n",
    "8. year: The year in which the observation was made (2007 or 2009)\n",
    "\n",
    "These variables provide information on various physical characteristics of the penguins, such as their size, weight, and sex, and can be used to explore patterns and relationships between the different penguin species."
   ]
  },
  {
   "cell_type": "code",
   "execution_count": null,
   "metadata": {},
   "outputs": [],
   "source": [
    "# Task 0\n",
    "\n",
    "import numpy as np\n",
    "import matplotlib.pyplot as plt\n",
    "\n",
    "from data import Data\n",
    "from transformation import Transformation\n",
    "\n",
    "import pandas as pd\n",
    "\n",
    "# Load the penguins dataset\n",
    "penguins_df = pd.read_csv('data/penguins.csv')\n",
    "\n",
    "# Create a dictionary object to map the species to numbers\n",
    "species_dict = {'Adelie': 0, 'Chinstrap': 1, 'Gentoo': 2}\n",
    "\n",
    "# replace the species names with integers in the 'species'  column\n",
    "penguins_df['species'] = penguins_df['species'].map(species_dict)\n",
    "\n",
    "# Create a dictionary object to map the island names to numbers\n",
    "island_dict = {'Biscoe': 0, 'Dream': 1, 'Torgersen': 2}\n",
    "\n",
    "# replace the island names with integers in the 'island' column\n",
    "penguins_df['island'] = penguins_df['island'].map(island_dict)\n",
    "\n",
    "# Create a dictionary object to map the sex names to numbers\n",
    "sex_dict = {'MALE': 0, 'FEMALE': 1}\n",
    "\n",
    "# replace the gender with integers in the 'sex' column\n",
    "penguins_df['sex'] = penguins_df['sex'].map(sex_dict)\n",
    "\n",
    "# Modifying the 2nd line of the penguins.csv file to have the species, islands, and sex as integers\n",
    "penguins_df.iloc[0, 0] = 'numeric'\n",
    "penguins_df.iloc[0, 1] = 'numeric'\n",
    "penguins_df.iloc[0, 6] = 'numeric'\n",
    "\n",
    "# Save the modified penguins.csv file\n",
    "penguins_df.to_csv('data/penguins_with_ints.csv', index=False)"
   ]
  }
 ],
 "metadata": {
  "kernelspec": {
   "display_name": "Python 3",
   "language": "python",
   "name": "python3"
  },
  "language_info": {
   "name": "python",
   "version": "3.10.8"
  },
  "orig_nbformat": 4
 },
 "nbformat": 4,
 "nbformat_minor": 2
}
