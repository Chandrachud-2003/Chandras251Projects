{
 "cells": [
  {
   "attachments": {},
   "cell_type": "markdown",
   "metadata": {},
   "source": [
    "**CHANDRACHUD MALALI GOWDA**\n",
    "\n",
    "Spring 2023\n",
    "\n",
    "CS 251: Data Analysis and Visualization\n",
    "\n",
    "Project 3: Linear Regression"
   ]
  },
  {
   "cell_type": "code",
   "execution_count": 70,
   "metadata": {},
   "outputs": [
    {
     "name": "stdout",
     "output_type": "stream",
     "text": [
      "The autoreload extension is already loaded. To reload it, use:\n",
      "  %reload_ext autoreload\n"
     ]
    }
   ],
   "source": [
    "import os\n",
    "import random\n",
    "import numpy as np\n",
    "import matplotlib.pyplot as plt\n",
    "\n",
    "from data import Data\n",
    "from linear_regression import LinearRegression\n",
    "\n",
    "plt.style.use(['seaborn-v0_8-colorblind', 'seaborn-v0_8-darkgrid'])\n",
    "plt.rcParams.update({'font.size': 20})\n",
    "\n",
    "np.set_printoptions(suppress=True, precision=5)\n",
    "\n",
    "# Automatically reload external modules\n",
    "%load_ext autoreload\n",
    "%autoreload 2"
   ]
  },
  {
   "cell_type": "markdown",
   "metadata": {},
   "source": [
    "## Task 1: Run a linear regression\n",
    "\n",
    "In this task, you will implement linear regression then analyze and plot the results on the Iris dataset. "
   ]
  },
  {
   "cell_type": "markdown",
   "metadata": {},
   "source": [
    "### 1a) Import Iris data\n",
    "\n",
    "**TODO:**\n",
    "- In the below cell, load in the Iris dataset into a `Data` object.\n",
    "- Print out the object (only showing the first few data samples).\n",
    "- Create an `LinearRegression` object called `lin_reg` based on the `Data` object that you just created."
   ]
  },
  {
   "cell_type": "code",
   "execution_count": 71,
   "metadata": {},
   "outputs": [
    {
     "name": "stdout",
     "output_type": "stream",
     "text": [
      "------------------------------\n",
      "data/iris_with_ints.csv (150x5)\n",
      "Headers:\n",
      "  sepal_length\t  sepal_width\t  petal_length\t  petal_width\t  species\t\n",
      "-----------------------\n",
      "Showing first 5/150 rows.\n",
      "5.1\t3.5\t1.4\t0.2\t0.0\t\n",
      "4.9\t3.0\t1.4\t0.2\t0.0\t\n",
      "4.7\t3.2\t1.3\t0.2\t0.0\t\n",
      "4.6\t3.1\t1.5\t0.2\t0.0\t\n",
      "5.0\t3.6\t1.4\t0.2\t0.0\t\n",
      "\n"
     ]
    }
   ],
   "source": [
    "# Importing the iris dataset into a Data object\n",
    "iris_filename = 'data/iris_with_ints.csv'\n",
    "iris_data = Data(iris_filename)\n",
    "# Print the object\n",
    "print('------------------------------')\n",
    "print(iris_data)\n",
    "# Create a Linear Regression object called lin_reg based on the Data object\n",
    "lin_reg = LinearRegression(iris_data)"
   ]
  },
  {
   "cell_type": "markdown",
   "metadata": {},
   "source": [
    "Your code should print something that looks like this:\n",
    "\n",
    "    -------------------------------\n",
    "    data/iris.csv (150x5)\n",
    "    Headers:\n",
    "    sepal_length\tsepal_width\tpetal_length\tpetal_width\tspecies\n",
    "    -------------------------------\n",
    "    Showing first 5/150 rows.\n",
    "    5.1\t3.5\t1.4\t0.2\t0.0\n",
    "    4.9\t3.0\t1.4\t0.2\t0.0\n",
    "    4.7\t3.2\t1.3\t0.2\t0.0\n",
    "    4.6\t3.1\t1.5\t0.2\t0.0\n",
    "    5.0\t3.6\t1.4\t0.2\t0.0"
   ]
  },
  {
   "cell_type": "markdown",
   "metadata": {},
   "source": [
    "### 1b) Solve for the linear regression slopes and intercept\n",
    "\n",
    "Implement the `linear_regression` method to solve the regression model $$\\vec{y} = A\\vec{c}$$ for the unknown coefficient vector $\\vec{c}$. Recall in this equation:\n",
    "- $A$ is the data matrix of independent variables selected for the regression shape=(`num_data_samps`, `num_ind_vars+1`) with an extra column of 1s tacked on for the intercept\n",
    "- $\\vec{c}$ is the vector of unknown regression coefficients associated with each independent variable (slopes + intercept) shape=(`num_ind_vars+1`, 1)\n",
    "- $\\vec{y}$ is the dependent variable column vector shape=(`num_data_samps`, 1)\n",
    "\n",
    "**Tips:**\n",
    "- The docstring for `linear_regression` instructs you to set all the instance variables. For now, focus on computing $\\vec{c}$ (slopes and intercept) and put off computing $R^2$ and the residuals. Use the test code below to help you debug."
   ]
  },
  {
   "cell_type": "markdown",
   "metadata": {},
   "source": [
    "#### Test `linear_regression` with one independent variable"
   ]
  },
  {
   "cell_type": "code",
   "execution_count": 72,
   "metadata": {},
   "outputs": [
    {
     "name": "stdout",
     "output_type": "stream",
     "text": [
      "Your regression fitted slope coefficients have shape\n",
      "(1, 1)\n",
      "and the shape should be\n",
      "(1, 1)\n",
      "Your regression fitted slope coefficient is\n",
      "1.8584\n",
      "and it should be\n",
      "1.8584\n",
      "Your regression fitted intercept is\n",
      "-7.1014\n",
      "and it should be\n",
      "-7.1014\n"
     ]
    }
   ],
   "source": [
    "lin_reg.linear_regression(['sepal_length'], 'petal_length')\n",
    "\n",
    "print(f'Your regression fitted slope coefficients have shape\\n{lin_reg.slope.shape}\\nand the shape should be\\n(1, 1)')\n",
    "print(f'Your regression fitted slope coefficient is\\n{lin_reg.slope[0, 0]:.4f}\\nand it should be\\n1.8584')\n",
    "print(f'Your regression fitted intercept is\\n{lin_reg.intercept:.4f}\\nand it should be\\n-7.1014')"
   ]
  },
  {
   "cell_type": "markdown",
   "metadata": {},
   "source": [
    "#### Test `linear_regression` with multiple independent variables"
   ]
  },
  {
   "cell_type": "code",
   "execution_count": 73,
   "metadata": {},
   "outputs": [
    {
     "name": "stdout",
     "output_type": "stream",
     "text": [
      "Your regression fitted slope coefficients have shape\n",
      "(3, 1)\n",
      "and the shape should be\n",
      "(3, 1)\n",
      "Your regression fitted slope coefficients are\n",
      "[-0.23818  0.09568  0.54794]\n",
      "and it should be\n",
      "[-0.23818  0.09568  0.54794]\n",
      "Your regression fitted intercept is\n",
      "0.0401\n",
      "and it should be\n",
      "0.0401\n"
     ]
    }
   ],
   "source": [
    "iris_headers = iris_data.get_headers()\n",
    "lin_reg.linear_regression(iris_headers[:3], iris_headers[4])\n",
    "\n",
    "print(f'Your regression fitted slope coefficients have shape\\n{lin_reg.slope.shape}\\nand the shape should be\\n(3, 1)')\n",
    "print(f'Your regression fitted slope coefficients are\\n{lin_reg.slope[:, 0]}\\nand it should be\\n[-0.23818  0.09568  0.54794]')\n",
    "print(f'Your regression fitted intercept is\\n{lin_reg.intercept:.4f}\\nand it should be\\n0.0401')"
   ]
  },
  {
   "cell_type": "markdown",
   "metadata": {},
   "source": [
    "### 1c) Predict y values from fitted regression model\n",
    "\n",
    "Implement the `predict` method: Use fitted linear regression model coefficients to make predictions based on the data."
   ]
  },
  {
   "cell_type": "markdown",
   "metadata": {},
   "source": [
    "#### Test `predict` with fitted data"
   ]
  },
  {
   "cell_type": "code",
   "execution_count": 74,
   "metadata": {},
   "outputs": [
    {
     "name": "stdout",
     "output_type": "stream",
     "text": [
      "Your model y predictions are\n",
      "[2.48684 1.81579 2.06842 2.01316 2.11579] and should be\n",
      "[2.48684 1.81579 2.06842 2.01316 2.11579]\n",
      "Your model y predictions shape is\n",
      "(5, 1) and should be\n",
      "(5, 1)\n"
     ]
    }
   ],
   "source": [
    "iris_data_pred = Data(iris_filename)\n",
    "iris_data_pred.limit_samples(100, 105)\n",
    "iris_headers = iris_data_pred.get_headers()\n",
    "\n",
    "lin_reg_pred = LinearRegression(iris_data_pred)\n",
    "lin_reg_pred.linear_regression(iris_headers[:2], iris_headers[3])\n",
    "y_pred = lin_reg_pred.predict()\n",
    "\n",
    "print(f'Your model y predictions are\\n{np.squeeze(y_pred)} and should be\\n[2.48684 1.81579 2.06842 2.01316 2.11579]')\n",
    "print(f'Your model y predictions shape is\\n{y_pred.shape} and should be\\n(5, 1)')"
   ]
  },
  {
   "cell_type": "markdown",
   "metadata": {},
   "source": [
    "#### Test `predict` with novel data"
   ]
  },
  {
   "cell_type": "code",
   "execution_count": 75,
   "metadata": {},
   "outputs": [
    {
     "name": "stdout",
     "output_type": "stream",
     "text": [
      "Your model y predictions are\n",
      "[2.18518 5.82409 3.23376] and should be\n",
      "[2.18518 5.82409 3.23376]\n",
      "Your model y predictions shape is\n",
      "(3, 1) and should be\n",
      "(3, 1)\n"
     ]
    }
   ],
   "source": [
    "np.random.seed(0)\n",
    "# fake test data: 3 data samples, 4 dimensional.\n",
    "test_slope = np.random.normal(size=(5, 1))\n",
    "test_X = np.random.normal(size=(3, 5))\n",
    "lin_reg.slope = test_slope\n",
    "lin_reg.intercept = np.pi\n",
    "y_pred = lin_reg.predict(test_X)\n",
    "print(f'Your model y predictions are\\n{np.squeeze(y_pred)} and should be\\n[2.18518 5.82409 3.23376]')\n",
    "print(f'Your model y predictions shape is\\n{y_pred.shape} and should be\\n(3, 1)')"
   ]
  },
  {
   "cell_type": "markdown",
   "metadata": {},
   "source": [
    "### 1d) Compute linear regression statistics"
   ]
  },
  {
   "attachments": {},
   "cell_type": "markdown",
   "metadata": {},
   "source": [
    "Implement the following methods then call them from `linear_regression` to compute all the class instance variables from within `linear_regression`.\n",
    "\n",
    "- `r_squared`: Quality of fit metric for linear regression. See $R^2$ equation below.\n",
    "- `compute_residuals`: Compute the difference between the regression model predictions and the actual dependent variable values (residuals).\n",
    "- `compute_mse`: Computes the mean squared error in the predicted y compared the actual y values (see MSE equation below).\n",
    "\n",
    "**$R^2$ Equation:** $$1 - \\frac{E}{S}$$ where $$E = \\sum_i \\left (y_i - \\hat{y}_i \\right )^2$$ and $$S =  \\sum_i \\left (y_i - \\bar{y} \\right )^2$$ where $y_i$ are the dependent variable values, $\\bar{y}_i$ is the mean of the dependent variable values, $\\hat{y}_i$ is the y values *predicted* by the regression.\n",
    "\n",
    "**Equation for MSE:** $$E = \\frac{1}{N}\\sum_{i=1}^N \\left (y_i - \\hat{y}_i \\right )^2$$"
   ]
  },
  {
   "cell_type": "markdown",
   "metadata": {},
   "source": [
    "#### Test `linear_regression` method with $R^2$ and residuals"
   ]
  },
  {
   "cell_type": "code",
   "execution_count": 76,
   "metadata": {},
   "outputs": [
    {
     "name": "stdout",
     "output_type": "stream",
     "text": [
      "Shape of your A data array is\n",
      "(150, 2) and should be\n",
      "(150, 1)\n",
      "Shape of your y dep var vector is\n",
      "(150, 1) and should be\n",
      "(150, 1)\n",
      "\n",
      "Your independent variables are:\n",
      "['sepal_length']\n",
      "and should be:\n",
      "['sepal_length']\n",
      "Your dependent variables are:\n",
      "petal_width\n",
      "and should be:\n",
      "petal_width\n",
      "\n",
      "Shape of your slope fits are (1, 1) and should be (1, 1)\n",
      "Your slope is [[0.75292]] and should be [[0.75292]]\n",
      "Your intercept is -3.20 and should be -3.20\n",
      "Your R^2 is 0.67 and should be 0.67\n",
      "Your 1st few residuals are\n",
      "[[-0.43966 -0.28908 -0.1385  -0.06321 -0.36437]] and should be\n",
      "[[-0.43966 -0.28908 -0.1385  -0.06321 -0.36437]]\n"
     ]
    }
   ],
   "source": [
    "lin_reg.linear_regression(['sepal_length'], 'petal_width')\n",
    "\n",
    "# test shapes of instance variables\n",
    "print(f'Shape of your A data array is\\n{lin_reg.A.shape} and should be\\n(150, 1)')\n",
    "print(f'Shape of your y dep var vector is\\n{lin_reg.y.shape} and should be\\n(150, 1)\\n')\n",
    "print(f\"Your independent variables are:\\n{lin_reg.ind_vars}\\nand should be:\\n['sepal_length']\")\n",
    "print(f'Your dependent variables are:\\n{lin_reg.dep_var}\\nand should be:\\npetal_width\\n')\n",
    "print(f'Shape of your slope fits are {lin_reg.slope.shape} and should be (1, 1)')\n",
    "\n",
    "# Test specific values\n",
    "print(f'Your slope is {lin_reg.slope} and should be [[0.75292]]')\n",
    "print(f'Your intercept is {lin_reg.intercept:.2f} and should be -3.20')\n",
    "print(f'Your R^2 is {lin_reg.R2:.2f} and should be 0.67')\n",
    "print(f'Your 1st few residuals are\\n{lin_reg.residuals[:5].T} and should be\\n[[-0.43966 -0.28908 -0.1385  -0.06321 -0.36437]]')"
   ]
  },
  {
   "attachments": {},
   "cell_type": "markdown",
   "metadata": {},
   "source": [
    "#### Test MSE"
   ]
  },
  {
   "cell_type": "code",
   "execution_count": 77,
   "metadata": {},
   "outputs": [
    {
     "name": "stdout",
     "output_type": "stream",
     "text": [
      "Your Iris MSE is 0.19 and should be 0.19\n"
     ]
    }
   ],
   "source": [
    "# Test with iris data\n",
    "lin_reg_norm = LinearRegression(iris_data)\n",
    "lin_reg_norm.linear_regression(['sepal_length'], 'petal_width')\n",
    "print(f'Your Iris MSE is {lin_reg_norm.compute_mse():.2f} and should be 0.19')"
   ]
  },
  {
   "cell_type": "markdown",
   "metadata": {},
   "source": [
    "## Task 2: Visualize linear regression"
   ]
  },
  {
   "cell_type": "markdown",
   "metadata": {},
   "source": [
    "### 2a) Update `scatter` to support visualizing linear regression results\n",
    "\n",
    "Implement `scatter` in `linear_regression.py`: Call your `Analysis::scatter` method to make the scatter plot, then handle overlaying the regression line in `LinearRegression::scatter`. **Run test code below.**"
   ]
  },
  {
   "cell_type": "markdown",
   "metadata": {},
   "source": [
    "#### Test  `scatter` with linear regression\n",
    "\n",
    "Only run this when you're done implementing all the methods thru `linear_regression`. This should produce:\n",
    "- A scatter plot with a linear regression line that looks like it makes sense.\n",
    "- There should be a title with the text \"Regression on Iris!\" and the $R^2$ value."
   ]
  },
  {
   "cell_type": "code",
   "execution_count": 78,
   "metadata": {},
   "outputs": [
    {
     "data": {
      "image/png": "[encoded data removed]",
      "text/plain": [
       "<Figure size 640x480 with 1 Axes>"
      ]
     },
     "metadata": {},
     "output_type": "display_data"
    }
   ],
   "source": [
    "iris_filename = 'data/iris.csv'\n",
    "iris_data = Data(iris_filename)\n",
    "lin_reg = LinearRegression(iris_data)\n",
    "lin_reg.linear_regression(['sepal_length'], 'petal_width')\n",
    "\n",
    "lin_reg.scatter('sepal_length', 'petal_width', 'Regression on Iris!')\n",
    "lin_reg.show()"
   ]
  },
  {
   "cell_type": "markdown",
   "metadata": {},
   "source": [
    "### 2b) Update `pair_plot` to add regression lines to each scatter plot\n",
    "\n",
    "- In the cell below, load in the `test52` data in a `Data` object.\n",
    "    - Print the `Data object` (1st few lines only).\n",
    "    - Create a `linear_regression` object based on the `Data` object."
   ]
  },
  {
   "cell_type": "code",
   "execution_count": null,
   "metadata": {},
   "outputs": [],
   "source": []
  },
  {
   "cell_type": "markdown",
   "metadata": {},
   "source": [
    "#### Test `pair_plot()`\n",
    "\n",
    "- Write `pair_plot()` in `linear_regression.py` that calls `Analysis::pair_plot` and extends it  to compute and plot the regression line for each scatter plot (all pairs of variables). For now, you can ignore the keyword argument `hists_on_diag`. **Run test code below.**\n",
    "\n",
    "Executing the cell below should produce:\n",
    "- A 5x5 grid of scatter plots.\n",
    "- (*new*) regression lines in each scatter plot. The title of each subplot should have the $R^2$ value.\n",
    "- Only 1st column has y axis labels.\n",
    "- Only last column has x axis labels."
   ]
  },
  {
   "cell_type": "code",
   "execution_count": 79,
   "metadata": {},
   "outputs": [
    {
     "ename": "NameError",
     "evalue": "name 'test52_data' is not defined",
     "output_type": "error",
     "traceback": [
      "\u001b[0;31m---------------------------------------------------------------------------\u001b[0m",
      "\u001b[0;31mNameError\u001b[0m                                 Traceback (most recent call last)",
      "Cell \u001b[0;32mIn[79], line 1\u001b[0m\n\u001b[0;32m----> 1\u001b[0m lin_reg\u001b[39m.\u001b[39mpair_plot(test52_data\u001b[39m.\u001b[39mget_headers(), hists_on_diag\u001b[39m=\u001b[39m\u001b[39mFalse\u001b[39;00m)\n",
      "\u001b[0;31mNameError\u001b[0m: name 'test52_data' is not defined"
     ]
    }
   ],
   "source": [
    "lin_reg.pair_plot(test52_data.get_headers(), hists_on_diag=False)"
   ]
  },
  {
   "cell_type": "markdown",
   "metadata": {},
   "source": [
    "**Question 1:** Use the test pair plot to identify potential relationships among variables. Which variables appear to be most strongly related? Which variables appear least likely to be related?"
   ]
  },
  {
   "attachments": {},
   "cell_type": "markdown",
   "metadata": {},
   "source": [
    "**Answer 1:** "
   ]
  },
  {
   "cell_type": "markdown",
   "metadata": {},
   "source": [
    "**Question 2:** What are the pros/cons of using pair plots to visualize multivariate data vs. a 3D scatter plot."
   ]
  },
  {
   "attachments": {},
   "cell_type": "markdown",
   "metadata": {},
   "source": [
    "**Answer 2:** "
   ]
  },
  {
   "cell_type": "markdown",
   "metadata": {},
   "source": [
    "### 2c) Adding histograms to `pair_plot`\n",
    "\n",
    "Update your `pair_plot` code to place a histogram along the main diagonal of the `pair_plot` grid (rather than a scatter plot). Do this when the keyword argument `hists_on_diag` is set to `True`. Use (*or adapt*) the following code snippet right before plotting the histogram on row `i` and column `j` of your pair plot. *This code makes the x and y axis scaling different for the histograms (not shared with the scatter plots)*.\n",
    "\n",
    "```python\n",
    "numVars = len(data_vars)\n",
    "axes[i, j].remove()\n",
    "axes[i, j] = fig.add_subplot(numVars, numVars, i*numVars+j+1)\n",
    "if j < numVars-1:\n",
    "    axes[i, j].set_xticks([])\n",
    "else:\n",
    "    axes[i, j].set_xlabel(data_vars[i])\n",
    "if i > 0:\n",
    "    axes[i, j].set_yticks([])\n",
    "else:\n",
    "    axes[i, j].set_ylabel(data_vars[i])\n",
    "```\n",
    "\n",
    "\n",
    "Executing the cell below should produce:\n",
    "- A 5x5 grid of scatter plots (histograms along main diagonal).\n",
    "- Regression lines in each scatter plot. The title of each subplot should have the $R^2$ value.\n",
    "- Only 1st column has y axis labels.\n",
    "- Only last column has x axis labels."
   ]
  },
  {
   "cell_type": "code",
   "execution_count": null,
   "metadata": {},
   "outputs": [],
   "source": [
    "lin_reg.pair_plot(test52_data.get_headers(), hists_on_diag=True)"
   ]
  },
  {
   "cell_type": "markdown",
   "metadata": {},
   "source": [
    "**Question 3:** Which is more useful along diagonal, the histogram or scatterplot?"
   ]
  },
  {
   "attachments": {},
   "cell_type": "markdown",
   "metadata": {},
   "source": [
    "**Answer 3:**"
   ]
  }
 ],
 "metadata": {
  "kernelspec": {
   "display_name": "Python 3",
   "language": "python",
   "name": "python3"
  },
  "language_info": {
   "codemirror_mode": {
    "name": "ipython",
    "version": 3
   },
   "file_extension": ".py",
   "mimetype": "text/x-python",
   "name": "python",
   "nbconvert_exporter": "python",
   "pygments_lexer": "ipython3",
   "version": "3.10.4"
  },
  "vscode": {
   "interpreter": {
    "hash": "aee8b7b246df8f9039afb4144a1f6fd8d2ca17a180786b69acc140d282b71a49"
   }
  }
 },
 "nbformat": 4,
 "nbformat_minor": 2
}
